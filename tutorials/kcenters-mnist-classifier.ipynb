{
 "cells": [
  {
   "cell_type": "code",
   "execution_count": 1,
   "metadata": {},
   "outputs": [
    {
     "name": "stdout",
     "output_type": "stream",
     "text": [
      "\u001b[32m\u001b[1mActivating\u001b[22m\u001b[39m environment at `~/Research/KCenters.jl/tutorials/Project.toml`\n",
      "\u001b[32m\u001b[1m  Updating\u001b[22m\u001b[39m registry at `~/.julia/registries/General`\n",
      "\u001b[32m\u001b[1m  Updating\u001b[22m\u001b[39m git-repo `https://github.com/JuliaRegistries/General.git`\n",
      "\u001b[2K\u001b[?25h[1mFetching:\u001b[22m\u001b[39m [========================================>]  100.0 %.0 %\u001b[32m\u001b[1m  Updating\u001b[22m\u001b[39m git-repo `https://github.com/sadit/KCenters.jl`\n",
      "\u001b[2K\u001b[?25h[1mFetching:\u001b[22m\u001b[39m [========================================>]  100.0 %.0 %\u001b[32m\u001b[1m  Updating\u001b[22m\u001b[39m git-repo `https://github.com/sadit/KCenters.jl`\n",
      "\u001b[?25l\u001b[2K\u001b[?25h\u001b[32m\u001b[1m Resolving\u001b[22m\u001b[39m package versions...\n",
      "\u001b[32m\u001b[1m  Updating\u001b[22m\u001b[39m `~/Research/KCenters.jl/tutorials/Project.toml`\n",
      " \u001b[90m [5d8de97f]\u001b[39m\u001b[93m ~ KCenters v0.1.6 #master (https://github.com/sadit/KCenters.jl)\u001b[39m\n",
      "\u001b[32m\u001b[1m  Updating\u001b[22m\u001b[39m `~/Research/KCenters.jl/tutorials/Manifest.toml`\n",
      " \u001b[90m [5d8de97f]\u001b[39m\u001b[93m ~ KCenters v0.1.6 #master (https://github.com/sadit/KCenters.jl)\u001b[39m\n"
     ]
    },
    {
     "name": "stderr",
     "output_type": "stream",
     "text": [
      "┌ Info: Precompiling KCenters [5d8de97f-65f8-4dd6-a15b-0f89c36a43ce]\n",
      "└ @ Base loading.jl:1273\n"
     ]
    }
   ],
   "source": [
    "using Pkg\n",
    "pkg\"activate .\"\n",
    "#pkg\"add https://github.com/sadit/KCenters.jl SimilaritySearch MLDatasets MLDataUtils LinearAlgebra Images StatsBase JSON\"\n",
    "using KCenters, SimilaritySearch, MLDatasets, MLDataUtils, LinearAlgebra, Images, StatsBase, JSON"
   ]
  },
  {
   "cell_type": "code",
   "execution_count": 24,
   "metadata": {},
   "outputs": [
    {
     "data": {
      "text/plain": [
       "load_data"
      ]
     },
     "execution_count": 24,
     "metadata": {},
     "output_type": "execute_result"
    }
   ],
   "source": [
    "\"\"\"\n",
    "    normalize_vector(X, i)\n",
    "\n",
    "Copies, converts to a vector of 28*28 dimensions and normalizes it\n",
    "\"\"\"\n",
    "function normalize_vector(X, i)\n",
    "    v = @view X[:, :, i]\n",
    "    normalize!(Float32.(reshape(v, 784)))\n",
    "    #Float32.(reshape(v, 784))\n",
    "end\n",
    "\n",
    "\"\"\"\n",
    "    load_data()\n",
    "\n",
    "Loads the MNIST benchmark and converts the dataset to individual vectors; labels are also encoded as integers\n",
    "\"\"\"\n",
    "function load_data()\n",
    "    train_X, train_y = MNIST.traindata()\n",
    "    test_X, test_y = MNIST.testdata()\n",
    "    le = labelenc(train_y)\n",
    "    \n",
    "    # KCenters work with collections of vectors more than concatenation of them\n",
    "    X1 = [normalize_vector(train_X, c) for c in 1:size(train_X, 3)]\n",
    "    X2 = [normalize_vector(test_X, c) for c in 1:size(test_X, 3)]\n",
    "\n",
    "    X1, label2ind.(train_y, le), X2, label2ind.(test_y, le), le\n",
    "end\n",
    "\n",
    "\n"
   ]
  },
  {
   "cell_type": "code",
   "execution_count": 7,
   "metadata": {},
   "outputs": [
    {
     "data": {
      "text/plain": [
       "display_examples (generic function with 2 methods)"
      ]
     },
     "execution_count": 7,
     "metadata": {},
     "output_type": "execute_result"
    }
   ],
   "source": [
    "function display_examples(P, train_X, s=7)\n",
    "    f(x) = reshape(x, (28, 28))'\n",
    "\n",
    "    for c in unique(rand(1:length(P.nc.centers), s))\n",
    "        sm = unique(rand(P.index.lists[c], s))\n",
    "        xx = hcat(f(P.nc.centers[c]), f.(train_X[sm])...)\n",
    "        (Gray.(xx)) |> display\n",
    "    end\n",
    "end"
   ]
  },
  {
   "cell_type": "code",
   "execution_count": 25,
   "metadata": {},
   "outputs": [
    {
     "name": "stderr",
     "output_type": "stream",
     "text": [
      "iteration 1 finished\n",
      "generating 8 configurations using top 8 configurations, starting with 4)\n",
      "[0.819, 0.7754444444444445, 0.7557222222222222, 0.7414444444444445]\n",
      "AKNC_Config(KCenters.direct_kernel, SimilaritySearch.l2_distance, Statistics.mean, 1, 0, 0, 1.0, :rand, 0.0, 1) => 0.819\n",
      "finished with 4\n",
      "iteration 2 finished\n",
      "stopping on iteration 2 due to a possible convergence (0.819 ≃ 0.819, tol: 0.01)\n",
      "1, score=0.819, config={\"kernel\":\"direct_kernel\",\"dist\":\"l2_distance\",\"centroid\":\"mean\",\"k\":1,\"ncenters\":0,\"maxiters\":0,\"recall\":1.0,\"initial_clusters\":\"rand\",\"split_entropy\":0.0,\"minimum_elements_per_centroid\":1}\n",
      "2, score=0.7754444444444445, config={\"kernel\":\"relu_kernel\",\"dist\":\"l2_distance\",\"centroid\":\"mean\",\"k\":1,\"ncenters\":0,\"maxiters\":0,\"recall\":1.0,\"initial_clusters\":\"rand\",\"split_entropy\":0.0,\"minimum_elements_per_centroid\":1}\n",
      "3, score=0.7557222222222222, config={\"kernel\":\"direct_kernel\",\"dist\":\"cosine_distance\",\"centroid\":\"mean\",\"k\":1,\"ncenters\":0,\"maxiters\":0,\"recall\":1.0,\"initial_clusters\":\"rand\",\"split_entropy\":0.0,\"minimum_elements_per_centroid\":1}\n",
      "4, score=0.7414444444444445, config={\"kernel\":\"relu_kernel\",\"dist\":\"cosine_distance\",\"centroid\":\"mean\",\"k\":1,\"ncenters\":0,\"maxiters\":0,\"recall\":1.0,\"initial_clusters\":\"rand\",\"split_entropy\":0.0,\"minimum_elements_per_centroid\":1}\n",
      "{\n",
      "  \"micro_f1\": 0.8223,\n",
      "  \"precision\": 0.8223,\n",
      "  \"recall\": 0.8223,\n",
      "  \"macro_recall\": 0.8196808470834271,\n",
      "  \"macro_f1\": 0.8199411066105006,\n",
      "  \"accuracy\": 0.8223,\n",
      "  \"class_f1\": {\n",
      "    \"7\": 0.7802400738688828,\n",
      "    \"9\": 0.8724489795918366,\n",
      "    \"4\": 0.9033376679670568,\n",
      "    \"10\": 0.7546978161503302,\n",
      "    \"2\": 0.8966202783300199,\n",
      "    \"3\": 0.8110831234256928,\n",
      "    \"5\": 0.7709551656920078,\n",
      "    \"8\": 0.8671182907764461,\n",
      "    \"6\": 0.8160804020100503,\n",
      "    \"1\": 0.726829268292683\n",
      "  },\n",
      "  \"class_precision\": {\n",
      "    \"7\": 0.7309688581314879,\n",
      "    \"9\": 0.9173819742489271,\n",
      "    \"4\": 0.8890784982935154,\n",
      "    \"10\": 0.7467336683417085,\n",
      "    \"2\": 0.874031007751938,\n",
      "    \"3\": 0.80259222333001,\n",
      "    \"5\": 0.7583892617449665,\n",
      "    \"8\": 0.8657648283038502,\n",
      "    \"6\": 0.8475991649269311,\n",
      "    \"1\": 0.7967914438502673\n",
      "  },\n",
      "  \"class_recall\": {\n",
      "    \"7\": 0.8366336633663366,\n",
      "    \"9\": 0.8317120622568094,\n",
      "    \"4\": 0.9180616740088106,\n",
      "    \"10\": 0.7628336755646817,\n",
      "    \"2\": 0.9204081632653062,\n",
      "    \"3\": 0.8197556008146639,\n",
      "    \"5\": 0.7839444995044599,\n",
      "    \"8\": 0.8684759916492694,\n",
      "    \"6\": 0.7868217054263565,\n",
      "    \"1\": 0.6681614349775785\n",
      "  }\n",
      "}\n",
      "\n"
     ]
    }
   ],
   "source": [
    "JSON.lower(f::Function) = string(f)\n",
    "\n",
    "function run_test(train_X, train_y, test_X, test_y; verbose=true, kwargs...)\n",
    "    O = []\n",
    "    P = nothing\n",
    "    best_list = search_params(AKNC, train_X, train_y, 32,\n",
    "        bsize=8, mutation_bsize=3, ssize=8, folds=0.7, search_maxiters=8,\n",
    "        score=:accuracy, tol=0.01, verbose=verbose,\n",
    "        kernel=[relu_kernel, direct_kernel];\n",
    "        kwargs...)\n",
    "    \n",
    "    for (i, c) in enumerate(best_list)\n",
    "        println(stderr, i, \", score=\", c[2], \", config=\", JSON.json(c[1]))\n",
    "    end\n",
    "\n",
    "    config, score = best_list[1]\n",
    "    model = fit(config, train_X, train_y, verbose=verbose)\n",
    "    ypred = predict(model, test_X)\n",
    "    s = scores(test_y, ypred)\n",
    "    println(stderr, JSON.json(s, 2))\n",
    "    model, s\n",
    "end\n",
    "\n",
    "train_X, train_y, test_X, test_y, le = load_data()\n",
    "run_test(train_X, train_y, test_X, test_y; ncenters=[0], dist=[l2_distance, cosine_distance]);"
   ]
  },
  {
   "cell_type": "code",
   "execution_count": 17,
   "metadata": {},
   "outputs": [
    {
     "name": "stderr",
     "output_type": "stream",
     "text": [
      "1, score=0.9346666666666666, config={\"kernel\":\"direct_kernel\",\"dist\":\"l2_distance\",\"centroid\":\"mean\",\"k\":1,\"ncenters\":100,\"maxiters\":3,\"recall\":1.0,\"initial_clusters\":\"fft\",\"split_entropy\":0.3,\"minimum_elements_per_centroid\":3}\n",
      "2, score=0.3373888888888889, config={\"kernel\":\"relu_kernel\",\"dist\":\"l2_distance\",\"centroid\":\"mean\",\"k\":1,\"ncenters\":100,\"maxiters\":3,\"recall\":1.0,\"initial_clusters\":\"fft\",\"split_entropy\":0.3,\"minimum_elements_per_centroid\":3}\n",
      "{\n",
      "  \"micro_f1\": 0.9316,\n",
      "  \"precision\": 0.9316,\n",
      "  \"recall\": 0.9316,\n",
      "  \"macro_recall\": 0.930948284365235,\n",
      "  \"macro_f1\": 0.9310572469264009,\n",
      "  \"accuracy\": 0.9316,\n",
      "  \"class_f1\": {\n",
      "    \"7\": 0.9188921859545005,\n",
      "    \"9\": 0.9102691924227319,\n",
      "    \"4\": 0.9707551287647316,\n",
      "    \"10\": 0.9219143576826196,\n",
      "    \"2\": 0.9699745547073791,\n",
      "    \"3\": 0.9160696008188333,\n",
      "    \"5\": 0.8927875243664718,\n",
      "    \"8\": 0.9592152813629323,\n",
      "    \"6\": 0.9345063538611926,\n",
      "    \"1\": 0.9161882893226178\n",
      "  },\n",
      "  \"class_precision\": {\n",
      "    \"7\": 0.9179841897233202,\n",
      "    \"9\": 0.9335378323108384,\n",
      "    \"4\": 0.9619377162629758,\n",
      "    \"10\": 0.9050445103857567,\n",
      "    \"2\": 0.9675126903553299,\n",
      "    \"3\": 0.9207818930041153,\n",
      "    \"5\": 0.87823585810163,\n",
      "    \"8\": 0.9489274770173647,\n",
      "    \"6\": 0.9428007889546351,\n",
      "    \"1\": 0.9388235294117647\n",
      "  },\n",
      "  \"class_recall\": {\n",
      "    \"7\": 0.9198019801980198,\n",
      "    \"9\": 0.8881322957198443,\n",
      "    \"4\": 0.9797356828193833,\n",
      "    \"10\": 0.9394250513347022,\n",
      "    \"2\": 0.9724489795918367,\n",
      "    \"3\": 0.9114052953156823,\n",
      "    \"5\": 0.9078295341922695,\n",
      "    \"8\": 0.9697286012526096,\n",
      "    \"6\": 0.9263565891472868,\n",
      "    \"1\": 0.8946188340807175\n",
      "  }\n",
      "}\n",
      "\n"
     ]
    },
    {
     "data": {
      "text/plain": [
       "(AKNC{Array{Float32,1}}(KNC{Array{Float32,1}}(Array{Float32,1}[[0.0, 0.0, 0.0, 0.0, 0.0, 0.0, 0.0, 0.0, 0.0, 0.0  …  0.0, 0.0, 0.0, 0.0, 0.0, 0.0, 0.0, 0.0, 0.0, 0.0], [0.0, 0.0, 0.0, 0.0, 0.0, 0.0, 0.0, 0.0, 0.0, 0.0  …  0.0, 0.0, 0.0, 0.0, 0.0, 0.0, 0.0, 0.0, 0.0, 0.0], [0.0, 0.0, 0.0, 0.0, 0.0, 0.0, 0.0, 0.0, 0.0, 0.0  …  0.0, 0.0, 0.0, 0.0, 0.0, 0.0, 0.0, 0.0, 0.0, 0.0], [0.0, 0.0, 0.0, 0.0, 0.0, 0.0, 0.0, 0.0, 0.0, 0.0  …  0.0, 0.0, 0.0, 0.0, 0.0, 0.0, 0.0, 0.0, 0.0, 0.0], [0.0, 0.0, 0.0, 0.0, 0.0, 0.0, 0.0, 0.0, 0.0, 0.0  …  0.0, 0.0, 0.0, 0.0, 0.0, 0.0, 0.0, 0.0, 0.0, 0.0], [0.0, 0.0, 0.0, 0.0, 0.0, 0.0, 0.0, 0.0, 0.0, 0.0  …  0.0, 0.0, 0.0, 0.0, 0.0, 0.0, 0.0, 0.0, 0.0, 0.0], [0.0, 0.0, 0.0, 0.0, 0.0, 0.0, 0.0, 0.0, 0.0, 0.0  …  0.0, 0.0, 0.0, 0.0, 0.0, 0.0, 0.0, 0.0, 0.0, 0.0], [0.0, 0.0, 0.0, 0.0, 0.0, 0.0, 0.0, 0.0, 0.0, 0.0  …  0.0, 0.0, 0.0, 0.0, 0.0, 0.0, 0.0, 0.0, 0.0, 0.0], [0.0, 0.0, 0.0, 0.0, 0.0, 0.0, 0.0, 0.0, 0.0, 0.0  …  0.0, 0.0, 0.0, 0.0, 0.0, 0.0, 0.0, 0.0, 0.0, 0.0], [0.0, 0.0, 0.0, 0.0, 0.0, 0.0, 0.0, 0.0, 0.0, 0.0  …  0.0, 0.0, 0.0, 0.0, 0.0, 0.0, 0.0, 0.0, 0.0, 0.0]  …  [0.0, 0.0, 0.0, 0.0, 0.0, 0.0, 0.0, 0.0, 0.0, 0.0  …  0.0, 0.0, 0.0, 0.0, 0.0, 0.0, 0.0, 0.0, 0.0, 0.0], [0.0, 0.0, 0.0, 0.0, 0.0, 0.0, 0.0, 0.0, 0.0, 0.0  …  0.0, 0.0, 0.0, 0.0, 0.0, 0.0, 0.0, 0.0, 0.0, 0.0], [0.0, 0.0, 0.0, 0.0, 0.0, 0.0, 0.0, 0.0, 0.0, 0.0  …  0.0, 3.243098e-5, 0.0017685696, 0.00071571005, 0.0, 0.0, 0.0, 0.0, 0.0, 0.0], [0.0, 0.0, 0.0, 0.0, 0.0, 0.0, 0.0, 0.0, 0.0, 0.0  …  0.0, 0.0, 0.0, 0.02103056, 0.085106075, 0.020472854, 0.0, 0.0, 0.0, 0.0], [0.0, 0.0, 0.0, 0.0, 0.0, 0.0, 0.0, 0.0, 0.0, 0.0  …  0.0, 0.0, 0.0, 0.0, 0.0, 0.0, 0.0, 0.0, 0.0, 0.0], [0.0, 0.0, 0.0, 0.0, 0.0, 0.0, 0.0, 0.0, 0.0, 0.0  …  0.0, 0.0, 0.0, 0.0, 0.0, 0.0, 0.0, 0.0, 0.0, 0.0], [0.0, 0.0, 0.0, 0.0, 0.0, 0.0, 0.0, 0.0, 0.0, 0.0  …  0.0, 0.0, 0.0, 0.0, 0.0, 0.0, 0.0, 0.0, 0.0, 0.0], [0.0, 0.0, 0.0, 0.0, 0.0, 0.0, 0.0, 0.0, 0.0, 0.0  …  0.0, 0.0, 0.0, 0.0, 0.0, 0.0, 0.0, 0.0, 0.0, 0.0], [0.0, 0.0, 0.0, 0.0, 0.0, 0.0, 0.0, 0.0, 0.0, 0.0  …  0.0, 0.0, 0.0, 0.0, 0.0, 0.0, 0.0, 0.0, 0.0, 0.0], [0.0, 0.0, 0.0, 0.0, 0.0, 0.0, 0.0, 0.0, 0.0, 0.0  …  0.0, 0.0, 0.0, 0.0, 0.0, 0.0, 0.0, 0.0, 0.0, 0.0]], [0.41971147060394287, 0.510421633720398, 0.48937034606933594, 0.4361119270324707, 0.4433513879776001, 0.37315690517425537, 0.4506453275680542, 0.4695129990577698, 0.6201463341712952, 0.5520129203796387  …  0.4351978302001953, 0.5655299425125122, 0.5253845453262329, 0.3190692663192749, 0.3780696392059326, 0.5035406351089478, 0.4577062726020813, 0.39105623960494995, 0.4264770746231079, 0.5109449625015259], [1, 2, 6, 7, 8, 10, 2, 3, 5, 8  …  1, 3, 5, 9, 10, 3, 5, 9, 4, 8], 10), KCenters.var\"#fun#70\"{typeof(l2_distance)}(SimilaritySearch.l2_distance), AKNC_Config(KCenters.direct_kernel, SimilaritySearch.l2_distance, Statistics.mean, 1, 100, 3, 1.0, :fft, 0.3, 3)), (micro_f1 = 0.9316, precision = 0.9316, recall = 0.9316, macro_recall = 0.930948284365235, macro_f1 = 0.9310572469264009, accuracy = 0.9316, class_f1 = Dict{Any,Any}(7 => 0.9188921859545005,9 => 0.9102691924227319,4 => 0.9707551287647316,10 => 0.9219143576826196,2 => 0.9699745547073791,3 => 0.9160696008188333,5 => 0.8927875243664718,8 => 0.9592152813629323,6 => 0.9345063538611926,1 => 0.9161882893226178…), class_precision = Dict{Any,Any}(7 => 0.9179841897233202,9 => 0.9335378323108384,4 => 0.9619377162629758,10 => 0.9050445103857567,2 => 0.9675126903553299,3 => 0.9207818930041153,5 => 0.87823585810163,8 => 0.9489274770173647,6 => 0.9428007889546351,1 => 0.9388235294117647…), class_recall = Dict{Any,Any}(7 => 0.9198019801980198,9 => 0.8881322957198443,4 => 0.9797356828193833,10 => 0.9394250513347022,2 => 0.9724489795918367,3 => 0.9114052953156823,5 => 0.9078295341922695,8 => 0.9697286012526096,6 => 0.9263565891472868,1 => 0.8946188340807175…)))"
      ]
     },
     "execution_count": 17,
     "metadata": {},
     "output_type": "execute_result"
    }
   ],
   "source": [
    "model, s = run_test(train_X, train_y, test_X, test_y, verbose=false, ncenters=[100], dist=[l2_distance], k=[1], split_entropy=[0.3], initial_clusters=[:fft], minimum_elements_per_centroid=[3], maxiters=[3])"
   ]
  },
  {
   "cell_type": "code",
   "execution_count": 23,
   "metadata": {},
   "outputs": [
    {
     "ename": "UndefVarError",
     "evalue": "UndefVarError: le not defined",
     "output_type": "error",
     "traceback": [
      "UndefVarError: le not defined",
      "",
      "Stacktrace:",
      " [1] top-level scope at ./In[23]:8"
     ]
    }
   ],
   "source": [
    "f(x) = Gray.(reshape(x, (28, 28))')\n",
    "\n",
    "\n",
    "for i in unique(rand(1:length(model.nc.centers), 7))\n",
    "    #    sm = unique(rand(P.index.lists[c], s))\n",
    "    #    xx = hcat(f(P.nc.centers[c]), f.(train_X[sm])...)\n",
    "    #    (Gray.(xx)) |> display\n",
    "    label = ind2label(model.nc.class_map[i], le)\n",
    "    display(\"$i => $(label)\")\n",
    "    f(model.nc.centers[i]) |> display\n",
    "end"
   ]
  }
 ],
 "metadata": {
  "kernelspec": {
   "display_name": "Julia 1.3.0",
   "language": "julia",
   "name": "julia-1.3"
  },
  "language_info": {
   "file_extension": ".jl",
   "mimetype": "application/julia",
   "name": "julia",
   "version": "1.3.0"
  }
 },
 "nbformat": 4,
 "nbformat_minor": 4
}
